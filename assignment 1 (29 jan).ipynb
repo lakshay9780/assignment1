{
 "cells": [
  {
   "cell_type": "code",
   "execution_count": 6,
   "id": "bb0f9968-b5fe-4e3a-a662-e5d5376ea385",
   "metadata": {},
   "outputs": [],
   "source": [
    "# question 1 : who developed python programming language?"
   ]
  },
  {
   "cell_type": "code",
   "execution_count": 7,
   "id": "eeb5e53b-c357-414a-b4b9-c0660787021c",
   "metadata": {},
   "outputs": [],
   "source": [
    " #answer 1: Guido van Rossum"
   ]
  },
  {
   "cell_type": "code",
   "execution_count": 8,
   "id": "79eb8972-6fd8-4634-ac54-5d92baf1c20c",
   "metadata": {},
   "outputs": [],
   "source": [
    "# questin 2: which type of programming does python support?"
   ]
  },
  {
   "cell_type": "code",
   "execution_count": 9,
   "id": "661f5f98-8fb9-4d81-834c-38c3d516f0d7",
   "metadata": {},
   "outputs": [],
   "source": [
    "# answer 2: python is a multi-paradigm programming language.it supports structured programming and object-oriented programming.\n",
    "#           Many of their features support functional programming and aspect-oriented programming."
   ]
  },
  {
   "cell_type": "code",
   "execution_count": 10,
   "id": "e91117de-edeb-40ac-8c59-93596013ff83",
   "metadata": {},
   "outputs": [],
   "source": [
    "# question 3: is python case sensitive when dealing with identifiers?\n",
    "# answer    : yes"
   ]
  },
  {
   "cell_type": "code",
   "execution_count": 11,
   "id": "339d7170-892f-41d8-ac0e-6c1844cfcb09",
   "metadata": {},
   "outputs": [],
   "source": [
    "# questin 4: what is the correct extension of the python file?\n",
    "# answer:    .py"
   ]
  },
  {
   "cell_type": "code",
   "execution_count": 12,
   "id": "673cb5f5-0100-41d2-ad5f-04ba738170d8",
   "metadata": {},
   "outputs": [],
   "source": [
    "# questin 5: Is python code compiled or interpreted?\n",
    "# answer   :python is an interpreted language"
   ]
  },
  {
   "cell_type": "code",
   "execution_count": 13,
   "id": "af73f921-7fe0-4d10-9fec-729f46d68dd5",
   "metadata": {},
   "outputs": [],
   "source": [
    "# Question 6: Name a few blocks of code used to define in python language?\n",
    "# Answer    : Indentation is used to define a block of code in python.\n",
    "#             A block is a piece of python program text that is executed as a unit\n",
    "#             The following are blocks:- a module,a function body and a class definition\n",
    "#             There are a number of block code types used including *hamming codes *expander codes *golay codes etc."
   ]
  },
  {
   "cell_type": "code",
   "execution_count": 14,
   "id": "58d4bbc2-b526-46bc-bbbc-6b5bd9fc3a05",
   "metadata": {},
   "outputs": [],
   "source": [
    "# Question 7: State a character that is used to give single line comment in python?\n",
    "# Answer    :Hash character(#)"
   ]
  },
  {
   "cell_type": "code",
   "execution_count": 1,
   "id": "1d38251a-1e50-42a7-8b3f-645f7e915ff5",
   "metadata": {},
   "outputs": [],
   "source": [
    "# Question 8: Mention functions that can help us to find the version of python that we are currently working on?\n",
    "# Answer    : The function sys. version can help us to find the version of python we are currently working on. "
   ]
  },
  {
   "cell_type": "code",
   "execution_count": 1,
   "id": "5071a45f-3d44-4b80-902e-f19fe239411f",
   "metadata": {},
   "outputs": [],
   "source": [
    "# Question 9: Python supports the creation of anonymous function at runtime,using a construct called ______\n",
    "#Answer    : lambda"
   ]
  },
  {
   "cell_type": "code",
   "execution_count": 2,
   "id": "d05a10ed-2e43-4ee3-96f8-780402363d7e",
   "metadata": {},
   "outputs": [],
   "source": [
    "# Question 10: What does pip stand for python?\n",
    "# Answer:     pip stand for preferred installer program"
   ]
  },
  {
   "cell_type": "code",
   "execution_count": 3,
   "id": "7437a148-aa9c-4939-82a2-b7ecac8c1653",
   "metadata": {},
   "outputs": [],
   "source": [
    "# Question 11: Mention a few built in functions in python?\n",
    "# Answer    : Built in functions are\n",
    "#             print() function\n",
    "#             type() function\n",
    "#             input() function\n",
    "#             pow() function\n",
    "#             max() function  etc."
   ]
  },
  {
   "cell_type": "code",
   "execution_count": 4,
   "id": "2af313ce-1387-41ab-a996-102dd0da38a8",
   "metadata": {},
   "outputs": [],
   "source": [
    "# Question 12: What is the maximum possible length of an identifier in python?\n",
    "# Answer    : 79 characters"
   ]
  },
  {
   "cell_type": "code",
   "execution_count": 5,
   "id": "6d5fc912-8d24-4e24-b84a-09d2b55ab8c3",
   "metadata": {},
   "outputs": [],
   "source": [
    "# Question 13: What are the benefits of using python?\n",
    "# Answer     :*It is easy to learn and use\n",
    "#             *Python is an interpreted language which means python directly executes the code line by line\n",
    "#             *The standard library of python is huge which means we can find all the functions needed for the task.\n",
    "#             *Python is a very productive language.\n",
    "#             *It is versatile,reliable and efficient language"
   ]
  },
  {
   "cell_type": "code",
   "execution_count": 6,
   "id": "f83496cd-fc67-4384-8d4d-af34a5da5ff5",
   "metadata": {},
   "outputs": [],
   "source": [
    "# Question 14: How is memory managed in python?\n",
    "# Answer     : Memory management in python involves a private heap containing all python objects and data structures.The management of this\n",
    "#              private heap is ensured internally by the python memory manager."
   ]
  },
  {
   "cell_type": "code",
   "execution_count": 7,
   "id": "5736ea35-7129-422c-8360-51dba5aa7625",
   "metadata": {},
   "outputs": [],
   "source": [
    "# Question 15: How to install python on windows and set path variables?\n",
    "# Answer     : Find Python's Installation Path on Your PC To add Python to your Windows PATH, you need to get its installation path.\n",
    "#              To do that, open up the Windows search bar and type python.exe(don't hit the Enterkey). \n",
    "#              Then right-click on Python.exethat pops up in the resulting menu and select the Open file location option.\n",
    "#              To set path variable\n",
    "#              Start > Windows System > Command Prompt. Next, right-click on the command prompt icon, choose More,\n",
    "#              then choose “ run as administrator \".\n",
    "#              Step 2. Once the Type in the python command, and then press Enter."
   ]
  },
  {
   "cell_type": "code",
   "execution_count": 8,
   "id": "3101b188-1afd-4aa8-b177-be8e0701b786",
   "metadata": {},
   "outputs": [],
   "source": [
    "# Question 16 :Is indentation required in python?\n",
    "# Answer      :Yes"
   ]
  },
  {
   "cell_type": "code",
   "execution_count": null,
   "id": "9980051b-2870-424e-99f7-847d45ed6cbc",
   "metadata": {},
   "outputs": [],
   "source": []
  }
 ],
 "metadata": {
  "kernelspec": {
   "display_name": "Python 3 (ipykernel)",
   "language": "python",
   "name": "python3"
  },
  "language_info": {
   "codemirror_mode": {
    "name": "ipython",
    "version": 3
   },
   "file_extension": ".py",
   "mimetype": "text/x-python",
   "name": "python",
   "nbconvert_exporter": "python",
   "pygments_lexer": "ipython3",
   "version": "3.10.8"
  }
 },
 "nbformat": 4,
 "nbformat_minor": 5
}
